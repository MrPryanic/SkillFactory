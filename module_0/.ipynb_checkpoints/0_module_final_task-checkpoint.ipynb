{
 "cells": [
  {
   "cell_type": "markdown",
   "metadata": {},
   "source": [
    "# Итоговое задание по module_0"
   ]
  },
  {
   "cell_type": "markdown",
   "metadata": {},
   "source": [
    "Для начала используем код автора, который загададывает натуральное число от 1 до 100."
   ]
  },
  {
   "cell_type": "markdown",
   "metadata": {},
   "source": [
    "В качестве метода поиска загаданного числа будем использовать бинарный поиск. Таким образом мы сможем каждый раз угадывать число не более чем за 7 попыток. \n",
    "ВАЖНО: поиск будет работать только с упорядоченным списком чисел."
   ]
  },
  {
   "cell_type": "code",
   "execution_count": 3,
   "metadata": {},
   "outputs": [
    {
     "name": "stdout",
     "output_type": "stream",
     "text": [
      "Загадано число от 1 до 100\n"
     ]
    }
   ],
   "source": [
    "import numpy as np\n",
    "\n",
    "number = np.random.randint(1,101)         # загадали число\n",
    "numbers_list = [i for i in range(1, 101)] # создаем упорядоченный список чисел от 1 до 100 \n",
    "print (\"Загадано число от 1 до 100\")\n",
    "\n",
    "\n",
    "def binary_search(list, item): \n",
    "    '''В качестве аргументов функция будет принимать упорядоченный список чисел от 1 до 100, и значение загаданного числа.\n",
    "       Каждый раз будет выбираться среднее значение диапазона и проверяться.'''\n",
    "    low = 0                 # индекс первого числа в диапазоне\n",
    "    high = len(list) - 1    # индекс последнего числа в диапазоне\n",
    "    count = 1               # счетчик попыток\n",
    "    \n",
    "    while low <= high:\n",
    "        mid = (low + high)//2\n",
    "        guess = numbers_list[mid]     # преподполагаем загаданное число\n",
    "        if guess == item:\n",
    "            print(f\"Было загадано число {numbers_list[mid]}. Угадали за {count} попыток\")\n",
    "            return mid\n",
    "        if guess > item:\n",
    "            high = mid - 1\n",
    "            count += 1\n",
    "        else:\n",
    "            low = mid + 1\n",
    "            count += 1\n",
    "            \n",
    "    print(f'Загадано число: {number}. Это противоречит условию')  # защита от \"дурака\"    \n",
    "    return None"
   ]
  },
  {
   "cell_type": "code",
   "execution_count": 4,
   "metadata": {},
   "outputs": [
    {
     "name": "stdout",
     "output_type": "stream",
     "text": [
      "Было загадано число 94. Угадали за 4 попыток\n"
     ]
    },
    {
     "data": {
      "text/plain": [
       "93"
      ]
     },
     "execution_count": 4,
     "metadata": {},
     "output_type": "execute_result"
    }
   ],
   "source": [
    "binary_search(numbers_list, number)\n"
   ]
  },
  {
   "cell_type": "code",
   "execution_count": null,
   "metadata": {},
   "outputs": [],
   "source": []
  }
 ],
 "metadata": {
  "kernelspec": {
   "display_name": "Python 3",
   "language": "python",
   "name": "python3"
  },
  "language_info": {
   "codemirror_mode": {
    "name": "ipython",
    "version": 3
   },
   "file_extension": ".py",
   "mimetype": "text/x-python",
   "name": "python",
   "nbconvert_exporter": "python",
   "pygments_lexer": "ipython3",
   "version": "3.8.5"
  }
 },
 "nbformat": 4,
 "nbformat_minor": 4
}

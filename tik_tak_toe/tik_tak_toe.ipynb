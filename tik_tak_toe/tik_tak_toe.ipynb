{
 "cells": [
  {
   "cell_type": "markdown",
   "metadata": {},
   "source": [
    "# Крестики-нолики на питоне"
   ]
  },
  {
   "cell_type": "markdown",
   "metadata": {},
   "source": [
    "В качестве первого этапа создадим список значений игрового поля с помощью генератора списков:"
   ]
  },
  {
   "cell_type": "code",
   "execution_count": 9,
   "metadata": {},
   "outputs": [],
   "source": [
    "game_board = [i for i in range(1, 10)]"
   ]
  },
  {
   "cell_type": "markdown",
   "metadata": {},
   "source": [
    "Далее с помощью функции draw_game_board отрисуем игровое поле 3х3:"
   ]
  },
  {
   "cell_type": "code",
   "execution_count": 10,
   "metadata": {},
   "outputs": [
    {
     "name": "stdout",
     "output_type": "stream",
     "text": [
      "-------------\n",
      "| 1 | 2 | 3 |\n",
      "| 4 | 5 | 6 |\n",
      "| 7 | 8 | 9 |\n",
      "-------------\n"
     ]
    }
   ],
   "source": [
    "def draw_game_board():\n",
    "    print('-------------')\n",
    "    for i in range(3):\n",
    "        print(f'| {game_board[0 + i * 3]} | {game_board[1 + i * 3]} | {game_board[2 + i * 3]} |')\n",
    "    print('-------------')\n",
    "\n",
    "    \n",
    "draw_game_board()"
   ]
  },
  {
   "cell_type": "markdown",
   "metadata": {},
   "source": [
    "Создадим функцию, которая будет принимать значения позиции, на которую необходимо поставить Х или О:"
   ]
  },
  {
   "cell_type": "code",
   "execution_count": 11,
   "metadata": {},
   "outputs": [],
   "source": [
    "def players_input(player_team):\n",
    "    while True:\n",
    "        value = input('Укажите клетку, в которую вы хотите поставить ' + player_team)\n",
    "        if value not in '123456789':\n",
    "            print('Ошибка при вводе. Введите число от 1 до 9. Го еще разок!')\n",
    "            continue\n",
    "        value = int(value)\n",
    "        if str(game_board[(value - 1)]) in 'XO':\n",
    "            print('Клетка уже занята. Го еще разок! [2]')\n",
    "            continue\n",
    "        game_board[value - 1] = player_team\n",
    "        break       "
   ]
  },
  {
   "cell_type": "markdown",
   "metadata": {},
   "source": [
    "Далее создадим функцию для определения победителя. Выигрышных комбинаций не так уж и много, поэтому запишем их вручную в виде кортежа:"
   ]
  },
  {
   "cell_type": "code",
   "execution_count": 12,
   "metadata": {},
   "outputs": [],
   "source": [
    "winning_coord = ([1, 2, 3], [4, 5, 6], [7, 8, 9], [1, 4, 7], [2, 5, 8], [3, 6, 9], [1, 5, 9], [3, 5, 7])"
   ]
  },
  {
   "cell_type": "code",
   "execution_count": 13,
   "metadata": {},
   "outputs": [],
   "source": [
    "def check_win():\n",
    "    for each in winning_coord:\n",
    "        three_in_a_row = (game_board[each[0] - 1]) == (game_board[each[1] - 1]) == (game_board[each[2] - 1])\n",
    "        if three_in_a_row:\n",
    "            return game_board[each[0] - 1]\n",
    "    else:\n",
    "        return False"
   ]
  },
  {
   "cell_type": "markdown",
   "metadata": {},
   "source": [
    "Обернем все общей функцией:"
   ]
  },
  {
   "cell_type": "code",
   "execution_count": null,
   "metadata": {},
   "outputs": [],
   "source": [
    "def main():\n",
    "    counter = 0\n",
    "    while True:\n",
    "        draw_game_board()\n",
    "        if counter % 2 == 0:\n",
    "            players_input('X')\n",
    "        else:\n",
    "            players_input('O')\n",
    "        if counter > 3:\n",
    "            winner = check_win()\n",
    "            if winner:\n",
    "                draw_game_board()\n",
    "                print(winner, 'победитель! хД')\n",
    "                break\n",
    "        counter += 1\n",
    "        if counter > 8:\n",
    "            draw_game_board()\n",
    "            print('Ничья :[ ')\n",
    "            break\n",
    "            "
   ]
  },
  {
   "cell_type": "markdown",
   "metadata": {},
   "source": [
    "Ну и в завершении вызовем функцию main:"
   ]
  },
  {
   "cell_type": "code",
   "execution_count": null,
   "metadata": {},
   "outputs": [],
   "source": [
    "main()"
   ]
  },
  {
   "cell_type": "code",
   "execution_count": null,
   "metadata": {},
   "outputs": [],
   "source": []
  },
  {
   "cell_type": "code",
   "execution_count": null,
   "metadata": {},
   "outputs": [],
   "source": []
  },
  {
   "cell_type": "code",
   "execution_count": null,
   "metadata": {},
   "outputs": [],
   "source": []
  }
 ],
 "metadata": {
  "kernelspec": {
   "display_name": "Python 3",
   "language": "python",
   "name": "python3"
  },
  "language_info": {
   "codemirror_mode": {
    "name": "ipython",
    "version": 3
   },
   "file_extension": ".py",
   "mimetype": "text/x-python",
   "name": "python",
   "nbconvert_exporter": "python",
   "pygments_lexer": "ipython3",
   "version": "3.8.5"
  }
 },
 "nbformat": 4,
 "nbformat_minor": 4
}
